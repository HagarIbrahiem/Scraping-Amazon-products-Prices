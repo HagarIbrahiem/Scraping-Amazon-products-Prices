{
 "cells": [
  {
   "cell_type": "code",
   "execution_count": 2,
   "metadata": {},
   "outputs": [
    {
     "name": "stdout",
     "output_type": "stream",
     "text": [
      "Requirement already satisfied: selenium in c:\\users\\nmi pc\\anaconda3\\lib\\site-packages (3.141.0)\n",
      "Requirement already satisfied: urllib3 in c:\\users\\nmi pc\\anaconda3\\lib\\site-packages (from selenium) (1.25.11)\n"
     ]
    }
   ],
   "source": [
    "!pip install selenium"
   ]
  },
  {
   "cell_type": "code",
   "execution_count": 3,
   "metadata": {},
   "outputs": [],
   "source": [
    "from selenium import webdriver\n",
    "from selenium.webdriver.common.keys import Keys\n",
    "import pandas as pd\n",
    "\n",
    "driver = webdriver.Firefox()\n",
    "driver.get('https://www.amazon.com/s?k=amazonbasics&rh=n%3A1055398%2Cp_36%3A1253523011&dc&qid=1619039742&rnid=386465011&ref=sr_nr_p_36_1') "
   ]
  },
  {
   "cell_type": "code",
   "execution_count": 4,
   "metadata": {},
   "outputs": [
    {
     "name": "stdout",
     "output_type": "stream",
     "text": [
      "['Amazon Basics Lightweight Super Soft Easy Care Microfiber Bed Sheet Set with 14\" Deep Pockets - King, Bright White', 'Amazon Basics Heavy Duty Sponges, 6-Pack', 'Amazon Basics Collapsible Fabric Storage Cubes with Oval Grommets - 6-Pack, Taupe', 'Amazon Basics 8-Sheet Capacity, Cross-Cut Paper and Credit Card Shredder, 4.1 Gallon', 'Amazon Basics Kids Laughing Lions Patterned Throw Blanket with Stuffed Animal Lion', 'Amazon Basics Quick-Dry Bath Towels - 100% Cotton, 2-Pack, White', 'Amazon Basics 5-Shelf Adjustable, Heavy Duty Storage Shelving Unit (350 lbs loading capacity per shelf), Steel Organizer Wire Rack, Black (36L x 14W x 72H)', 'Amazon Basics Light-Weight Microfiber Kids Duvet Cover Set - Soft, Easy-Wash Microfiber-Twin/TwinXL, Ocean Blue', 'Amazon Basics Collapsible Fabric Storage Cubes Organizer with Handles, Gray - Pack of 6', 'Amazon Basics Quick-Dry Towels - 100% Cotton, 3-Piece Set, Lake Blue', \"Amazon Basics Kids Fleece Tail Blanket - 15'' x 40'', Blue Mermaid\", 'Amazon Basics Photo Picture Frame - 8\" x 10\", Black - Pack of 2', 'Optix 14-ounce Plastic Tumblers | set of 8 in 4 Coastal Colors', 'Lavatools PT09 4.5\" Commercial Grade Digital Instant Read Meat Thermometer for Kitchen, Food Cooking, Grill, BBQ, Smoker, Candy, Home Brewing, and Oil Deep Frying', 'Toketa Premium Hand Towels for Bathroom Combed Cotton Hand Towels Absorbent Soft Cotton Hand Towels for Bathroom, Hand & Face Washcloths Set 13 x 30 Inches Pack of 6 Beige & Grey', 'Amazon Basics Non-Slip Microfiber Shag Bathroom Rug Mat, 21\" x 34\", Platinum', 'Amazon Basics Reusable Silicone Baking Cups, Muffin Liners - Pack of 12, Multicolor', 'Amazon Basics 14-Piece Kitchen Knife Set, High-Carbon Stainless-Steel Blades with Pine Wood Knife Block, Black', 'Amazon Basics Tritan Water Bottle with Infuser – 25-Ounce, 2-Pack, Blue', 'Amazon Basics 2 Slice, Extra-Wide Slot Toaster with 6 Shade Settings, Black', 'Amazon Basics Quick-Dry Towels - 100% Cotton, 3-Piece Set, Linen', 'Amazon Basics 3-Piece Y-Peeler Set, Soft Grip Handle, Grey and Green', 'Amazon Basics Replacement Water Filters for Water Pitchers, Compatible with Brita - 6-Pack', 'Amazon Basics 12-Piece Color-Coded Kitchen Knife Set, 6 Knives with 6 Blade Guards, Multi-color', 'Amazon Basics Soft Microfiber Sheet Set with Elastic Pockets - Queen, Tide Pool Simple Stripe', 'Amazon Basics Photo Frame for use with Instax - 2-Opening - 3.25\"x2\", Black', 'Amazon Basics Fabric Storage Basket Container with Handles and Drawstring, Large', 'Genovega Microfiber Beach Towel Oversize Clearance, Extra Large 74\" 36\", Anchor Black Fast Quick Dry,Cool Travel Pool Towel, Ideal Gift for Women Men, Mom Dad, Best Friend Boyfriend Girlfriend', 'RPJC 5x7 Picture Frames Made of Solid Wood High Definition Glass for Table Top Display and Wall Mounting Photo Frame Black', 'Classic 24-ounce Premium Quality Plastic Tumblers | set of 6 Clear', 'Lightwind 6 Pack Premium 100% Cotton Hand Towels, 16 X 28 Inches Durable and Highly Absorbent Hand Towel, Hotel & Spa Quality Hand Towels Set, White', '100 Clear Plastic Knives | Heavy Duty Plastic Silverware Knives | Fancy Plastic Cutlery | Elegant Disposable Knives Pack | Bulk Disposable Flatware | Plastic Utensils Set | Nice Disposable Silverware', 'Can Opener Handheld, Hand Can Opener with Waiter Corkscrew, Manual Can Openers for Seniors with Arthritis, Can Openers HandHeld Smooth Edge Good Grip Handle, Hand Can Opener Camping/Kitchen, Green']\n"
     ]
    }
   ],
   "source": [
    "products = driver.find_elements_by_xpath('//span[@class=\"a-size-base-plus a-color-base a-text-normal\"]')\n",
    "products_list = []\n",
    "for p in range(len(products)):\n",
    "    products_list.append(products[p].text)\n",
    "print(products_list)  "
   ]
  },
  {
   "cell_type": "code",
   "execution_count": 5,
   "metadata": {},
   "outputs": [
    {
     "name": "stdout",
     "output_type": "stream",
     "text": [
      "['19', '4', '20', '33', '22', '18', '66', '8', '19', '15', '12', '18', '15', '10', '22', '14', '7', '14', '22', '16', '16', '22', '15', '15', '12', '20', '13', '8', '20', '15', '11', '9']\n"
     ]
    }
   ],
   "source": [
    "prices = driver.find_elements_by_xpath('//span[@class=\"a-price-whole\"]')\n",
    "prices_list = []\n",
    "for s in range(len(prices)):\n",
    "    prices_list.append(prices[s].text)\n",
    "print(prices_list)    "
   ]
  },
  {
   "cell_type": "code",
   "execution_count": 11,
   "metadata": {},
   "outputs": [],
   "source": [
    "data_tuple = list(zip(products_list, prices_list)) \n",
    "df = pd.DataFrame(data_tuple, columns=['Product_Name','Product_Price'])\n",
    "df.info\n",
    "df.to_csv(\"Amazon_Products_and_Prices.csv\", header=True, index=False)"
   ]
  },
  {
   "cell_type": "code",
   "execution_count": 12,
   "metadata": {},
   "outputs": [
    {
     "data": {
      "text/html": [
       "<div>\n",
       "<style scoped>\n",
       "    .dataframe tbody tr th:only-of-type {\n",
       "        vertical-align: middle;\n",
       "    }\n",
       "\n",
       "    .dataframe tbody tr th {\n",
       "        vertical-align: top;\n",
       "    }\n",
       "\n",
       "    .dataframe thead th {\n",
       "        text-align: right;\n",
       "    }\n",
       "</style>\n",
       "<table border=\"1\" class=\"dataframe\">\n",
       "  <thead>\n",
       "    <tr style=\"text-align: right;\">\n",
       "      <th></th>\n",
       "      <th>Product_Name</th>\n",
       "      <th>Product_Price</th>\n",
       "    </tr>\n",
       "  </thead>\n",
       "  <tbody>\n",
       "    <tr>\n",
       "      <th>0</th>\n",
       "      <td>Amazon Basics Lightweight Super Soft Easy Care...</td>\n",
       "      <td>19</td>\n",
       "    </tr>\n",
       "    <tr>\n",
       "      <th>1</th>\n",
       "      <td>Amazon Basics Heavy Duty Sponges, 6-Pack</td>\n",
       "      <td>4</td>\n",
       "    </tr>\n",
       "    <tr>\n",
       "      <th>2</th>\n",
       "      <td>Amazon Basics Collapsible Fabric Storage Cubes...</td>\n",
       "      <td>20</td>\n",
       "    </tr>\n",
       "    <tr>\n",
       "      <th>3</th>\n",
       "      <td>Amazon Basics 8-Sheet Capacity, Cross-Cut Pape...</td>\n",
       "      <td>33</td>\n",
       "    </tr>\n",
       "    <tr>\n",
       "      <th>4</th>\n",
       "      <td>Amazon Basics Kids Laughing Lions Patterned Th...</td>\n",
       "      <td>22</td>\n",
       "    </tr>\n",
       "  </tbody>\n",
       "</table>\n",
       "</div>"
      ],
      "text/plain": [
       "                                        Product_Name  Product_Price\n",
       "0  Amazon Basics Lightweight Super Soft Easy Care...             19\n",
       "1           Amazon Basics Heavy Duty Sponges, 6-Pack              4\n",
       "2  Amazon Basics Collapsible Fabric Storage Cubes...             20\n",
       "3  Amazon Basics 8-Sheet Capacity, Cross-Cut Pape...             33\n",
       "4  Amazon Basics Kids Laughing Lions Patterned Th...             22"
      ]
     },
     "execution_count": 12,
     "metadata": {},
     "output_type": "execute_result"
    }
   ],
   "source": [
    "df = pd.read_csv('Amazon_Products_and_Prices.csv')\n",
    "df.head()"
   ]
  },
  {
   "cell_type": "code",
   "execution_count": null,
   "metadata": {},
   "outputs": [],
   "source": []
  }
 ],
 "metadata": {
  "kernelspec": {
   "display_name": "Python 3",
   "language": "python",
   "name": "python3"
  },
  "language_info": {
   "codemirror_mode": {
    "name": "ipython",
    "version": 3
   },
   "file_extension": ".py",
   "mimetype": "text/x-python",
   "name": "python",
   "nbconvert_exporter": "python",
   "pygments_lexer": "ipython3",
   "version": "3.8.5"
  }
 },
 "nbformat": 4,
 "nbformat_minor": 4
}
